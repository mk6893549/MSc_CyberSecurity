{
 "cells": [
  {
   "cell_type": "code",
   "execution_count": 1,
   "id": "99d27141-8455-4b4c-8494-81bdc49751d0",
   "metadata": {},
   "outputs": [],
   "source": [
    "import os\n",
    "import numpy as np\n",
    "import pandas as pd\n",
    "from collections import Counter\n",
    "from tqdm.notebook import tqdm\n",
    "from math import log2\n"
   ]
  },
  {
   "cell_type": "code",
   "execution_count": 2,
   "id": "234797b1-7b5e-494d-a309-faf89e01e231",
   "metadata": {},
   "outputs": [],
   "source": [
    "def shannon_entropy(byte_window):\n",
    "    total = len(byte_window)\n",
    "    if total == 0:\n",
    "        return 0.0\n",
    "    counts = Counter(byte_window)\n",
    "    probs = [count / total for count in counts.values()]\n",
    "    return -sum(p * log2(p) for p in probs)\n",
    "\n",
    "def compute_entropy_features(file_path, window_size=10000):\n",
    "    with open(file_path, 'r') as f:\n",
    "        all_bytes = []\n",
    "        for line in f:\n",
    "            parts = line.strip().split()[1:]  # skip the address\n",
    "            valid_bytes = [b for b in parts if b != '??']\n",
    "            all_bytes.extend(valid_bytes)\n",
    "\n",
    "    # Convert hex to integer for numeric entropy calculation\n",
    "    byte_vals = [int(b, 16) for b in all_bytes if b != '??']\n",
    "\n",
    "    if len(byte_vals) == 0:\n",
    "        return [0.0] * 5  # Edge case: empty file\n",
    "\n",
    "    # Compute entropy over sliding windows\n",
    "    entropy_list = []\n",
    "    for i in range(0, len(byte_vals), window_size):\n",
    "        window = byte_vals[i:i+window_size]\n",
    "        entropy_list.append(shannon_entropy(window))\n",
    "\n",
    "    # Extract statistical features from entropy list\n",
    "    ent_mean = np.mean(entropy_list)\n",
    "    ent_std = np.std(entropy_list)\n",
    "    ent_min = np.min(entropy_list)\n",
    "    ent_max = np.max(entropy_list)\n",
    "    ent_median = np.median(entropy_list)\n",
    "\n",
    "    return [ent_mean, ent_std, ent_min, ent_max, ent_median]\n"
   ]
  },
  {
   "cell_type": "code",
   "execution_count": 3,
   "id": "2a19b241-9f69-4ca8-80f9-852992bad1dc",
   "metadata": {},
   "outputs": [
    {
     "data": {
      "application/vnd.jupyter.widget-view+json": {
       "model_id": "112fcde622424234a80212aac1d63f49",
       "version_major": 2,
       "version_minor": 0
      },
      "text/plain": [
       "  0%|          | 0/8 [00:00<?, ?it/s]"
      ]
     },
     "metadata": {},
     "output_type": "display_data"
    }
   ],
   "source": [
    "entropy_data = []\n",
    "file_ids = []\n",
    "\n",
    "for filename in tqdm(os.listdir('.')):\n",
    "    if filename.endswith('.bytes'):\n",
    "        file_id = filename.replace('.bytes', '')\n",
    "        file_path = os.path.join('.', filename)\n",
    "        entropy_vector = compute_entropy_features(file_path)\n",
    "        entropy_data.append(entropy_vector)\n",
    "        file_ids.append(file_id)\n"
   ]
  },
  {
   "cell_type": "code",
   "execution_count": 4,
   "id": "c4ccbd0f-bf8b-466e-ab15-39c47b821d46",
   "metadata": {},
   "outputs": [
    {
     "data": {
      "text/html": [
       "<div>\n",
       "<style scoped>\n",
       "    .dataframe tbody tr th:only-of-type {\n",
       "        vertical-align: middle;\n",
       "    }\n",
       "\n",
       "    .dataframe tbody tr th {\n",
       "        vertical-align: top;\n",
       "    }\n",
       "\n",
       "    .dataframe thead th {\n",
       "        text-align: right;\n",
       "    }\n",
       "</style>\n",
       "<table border=\"1\" class=\"dataframe\">\n",
       "  <thead>\n",
       "    <tr style=\"text-align: right;\">\n",
       "      <th></th>\n",
       "      <th>Id</th>\n",
       "      <th>ent_mean</th>\n",
       "      <th>ent_std</th>\n",
       "      <th>ent_min</th>\n",
       "      <th>ent_max</th>\n",
       "      <th>ent_median</th>\n",
       "    </tr>\n",
       "  </thead>\n",
       "  <tbody>\n",
       "    <tr>\n",
       "      <th>0</th>\n",
       "      <td>0A32eTdBKayjCWhZqDOQ</td>\n",
       "      <td>5.237044</td>\n",
       "      <td>2.623987</td>\n",
       "      <td>-0.000000</td>\n",
       "      <td>7.549752</td>\n",
       "      <td>6.698176</td>\n",
       "    </tr>\n",
       "    <tr>\n",
       "      <th>1</th>\n",
       "      <td>0ACDbR5M3ZhBJajygTuf</td>\n",
       "      <td>4.958300</td>\n",
       "      <td>0.181507</td>\n",
       "      <td>4.721774</td>\n",
       "      <td>6.540587</td>\n",
       "      <td>4.935115</td>\n",
       "    </tr>\n",
       "  </tbody>\n",
       "</table>\n",
       "</div>"
      ],
      "text/plain": [
       "                     Id  ent_mean   ent_std   ent_min   ent_max  ent_median\n",
       "0  0A32eTdBKayjCWhZqDOQ  5.237044  2.623987 -0.000000  7.549752    6.698176\n",
       "1  0ACDbR5M3ZhBJajygTuf  4.958300  0.181507  4.721774  6.540587    4.935115"
      ]
     },
     "execution_count": 4,
     "metadata": {},
     "output_type": "execute_result"
    }
   ],
   "source": [
    "df_entropy = pd.DataFrame(entropy_data, columns=[\n",
    "    'ent_mean', 'ent_std', 'ent_min', 'ent_max', 'ent_median'\n",
    "])\n",
    "df_entropy.insert(0, 'Id', file_ids)\n",
    "\n",
    "# Save to CSV\n",
    "os.makedirs('features', exist_ok=True)\n",
    "df_entropy.to_csv('features/entropy_features.csv', index=False)\n",
    "\n",
    "# Or preview in notebook\n",
    "df_entropy.head()\n"
   ]
  }
 ],
 "metadata": {
  "kernelspec": {
   "display_name": "Python 3 (ipykernel)",
   "language": "python",
   "name": "python3"
  },
  "language_info": {
   "codemirror_mode": {
    "name": "ipython",
    "version": 3
   },
   "file_extension": ".py",
   "mimetype": "text/x-python",
   "name": "python",
   "nbconvert_exporter": "python",
   "pygments_lexer": "ipython3",
   "version": "3.13.1"
  }
 },
 "nbformat": 4,
 "nbformat_minor": 5
}
