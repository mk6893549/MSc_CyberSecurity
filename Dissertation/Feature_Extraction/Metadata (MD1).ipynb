{
 "cells": [
  {
   "cell_type": "code",
   "execution_count": 1,
   "id": "78a6c08f-4a65-44d0-85ea-b8abfb5a4b6b",
   "metadata": {},
   "outputs": [],
   "source": [
    "import os\n",
    "import pandas as pd\n",
    "from tqdm.notebook import tqdm"
   ]
  },
  {
   "cell_type": "code",
   "execution_count": 2,
   "id": "44d02f68-8984-471d-ab78-28857d63560a",
   "metadata": {},
   "outputs": [],
   "source": [
    "def extract_metadata(file_path):\n",
    "    # 1. Get file size in bytes\n",
    "    file_size = os.path.getsize(file_path)\n",
    "\n",
    "    # 2. Get the first address (first word in the first line)\n",
    "    try:\n",
    "        with open(file_path, 'r') as f:\n",
    "            first_line = f.readline()\n",
    "            first_address = first_line.strip().split()[0]  # e.g., '00401000'\n",
    "            first_address_dec = int(first_address, 16)     # Convert hex to decimal\n",
    "    except Exception as e:\n",
    "        # In case of empty or broken file\n",
    "        first_address_dec = 0\n",
    "\n",
    "    return file_size, first_address_dec\n"
   ]
  },
  {
   "cell_type": "code",
   "execution_count": 3,
   "id": "82bb6755-a329-4d3b-9833-93a8caf602d1",
   "metadata": {},
   "outputs": [
    {
     "data": {
      "application/vnd.jupyter.widget-view+json": {
       "model_id": "2009467ff7144829ade27ea9ec0c2b70",
       "version_major": 2,
       "version_minor": 0
      },
      "text/plain": [
       "  0%|          | 0/9 [00:00<?, ?it/s]"
      ]
     },
     "metadata": {},
     "output_type": "display_data"
    }
   ],
   "source": [
    "metadata = []\n",
    "file_ids = []\n",
    "\n",
    "for filename in tqdm(os.listdir('.')):\n",
    "    if filename.endswith('.bytes'):\n",
    "        file_id = filename.replace('.bytes', '')\n",
    "        file_path = os.path.join('.', filename)\n",
    "        size, first_addr = extract_metadata(file_path)\n",
    "        metadata.append([size, first_addr])\n",
    "        file_ids.append(file_id)\n"
   ]
  },
  {
   "cell_type": "code",
   "execution_count": 4,
   "id": "cf650760-24c1-4d2b-b891-e427db322233",
   "metadata": {},
   "outputs": [
    {
     "data": {
      "text/html": [
       "<div>\n",
       "<style scoped>\n",
       "    .dataframe tbody tr th:only-of-type {\n",
       "        vertical-align: middle;\n",
       "    }\n",
       "\n",
       "    .dataframe tbody tr th {\n",
       "        vertical-align: top;\n",
       "    }\n",
       "\n",
       "    .dataframe thead th {\n",
       "        text-align: right;\n",
       "    }\n",
       "</style>\n",
       "<table border=\"1\" class=\"dataframe\">\n",
       "  <thead>\n",
       "    <tr style=\"text-align: right;\">\n",
       "      <th></th>\n",
       "      <th>Id</th>\n",
       "      <th>file_size</th>\n",
       "      <th>first_address</th>\n",
       "    </tr>\n",
       "  </thead>\n",
       "  <tbody>\n",
       "    <tr>\n",
       "      <th>0</th>\n",
       "      <td>0A32eTdBKayjCWhZqDOQ</td>\n",
       "      <td>4356052</td>\n",
       "      <td>4198400</td>\n",
       "    </tr>\n",
       "    <tr>\n",
       "      <th>1</th>\n",
       "      <td>0ACDbR5M3ZhBJajygTuf</td>\n",
       "      <td>5731328</td>\n",
       "      <td>4198400</td>\n",
       "    </tr>\n",
       "  </tbody>\n",
       "</table>\n",
       "</div>"
      ],
      "text/plain": [
       "                     Id  file_size  first_address\n",
       "0  0A32eTdBKayjCWhZqDOQ    4356052        4198400\n",
       "1  0ACDbR5M3ZhBJajygTuf    5731328        4198400"
      ]
     },
     "execution_count": 4,
     "metadata": {},
     "output_type": "execute_result"
    }
   ],
   "source": [
    "df_md1 = pd.DataFrame(metadata, columns=['file_size', 'first_address'])\n",
    "df_md1.insert(0, 'Id', file_ids)\n",
    "\n",
    "# Save to CSV\n",
    "os.makedirs('features', exist_ok=True)\n",
    "df_md1.to_csv('features/metadata_md1.csv', index=False)\n",
    "\n",
    "# Preview in notebook\n",
    "df_md1.head()\n"
   ]
  }
 ],
 "metadata": {
  "kernelspec": {
   "display_name": "Python 3 (ipykernel)",
   "language": "python",
   "name": "python3"
  },
  "language_info": {
   "codemirror_mode": {
    "name": "ipython",
    "version": 3
   },
   "file_extension": ".py",
   "mimetype": "text/x-python",
   "name": "python",
   "nbconvert_exporter": "python",
   "pygments_lexer": "ipython3",
   "version": "3.13.1"
  }
 },
 "nbformat": 4,
 "nbformat_minor": 5
}
