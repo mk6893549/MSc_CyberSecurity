{
 "cells": [
  {
   "cell_type": "code",
   "execution_count": 1,
   "id": "5a8cebef-3e7e-46bc-8755-f63aa0ae48cf",
   "metadata": {},
   "outputs": [],
   "source": [
    "import os\n",
    "import pandas as pd\n",
    "from collections import Counter\n",
    "from tqdm.notebook import tqdm\n",
    "\n",
    "# Define the set of symbols to count\n",
    "SYMBOLS = ['@', '?', '[', ']', '-', '+', '*']\n"
   ]
  },
  {
   "cell_type": "code",
   "execution_count": 2,
   "id": "aafd6dcc-c5c5-4e68-aa0a-7a06c1996fad",
   "metadata": {},
   "outputs": [],
   "source": [
    "def extract_symbol_frequency(file_path, symbols):\n",
    "    counter = Counter()\n",
    "    with open(file_path, 'r', errors='ignore') as f:\n",
    "        for line in f:\n",
    "            for symbol in symbols:\n",
    "                counter[symbol] += line.count(symbol)\n",
    "    return [counter.get(s, 0) for s in symbols]\n"
   ]
  },
  {
   "cell_type": "code",
   "execution_count": 3,
   "id": "b8e20888-4dcc-4a15-ac88-24dc3b2ddca3",
   "metadata": {},
   "outputs": [
    {
     "data": {
      "application/vnd.jupyter.widget-view+json": {
       "model_id": "ff7e0e7f191945b3ac3c7203613d6c20",
       "version_major": 2,
       "version_minor": 0
      },
      "text/plain": [
       "  0%|          | 0/15 [00:00<?, ?it/s]"
      ]
     },
     "metadata": {},
     "output_type": "display_data"
    }
   ],
   "source": [
    "symbol_features = []\n",
    "file_ids = []\n",
    "\n",
    "for filename in tqdm(os.listdir('.')):\n",
    "    if filename.endswith('.asm'):\n",
    "        file_id = filename.replace('.asm', '')\n",
    "        file_path = os.path.join('.', filename)\n",
    "        try:\n",
    "            features = extract_symbol_frequency(file_path, SYMBOLS)\n",
    "        except Exception as e:\n",
    "            print(f\"Error processing {file_path}: {e}\")\n",
    "            features = [0] * len(SYMBOLS)\n",
    "        symbol_features.append(features)\n",
    "        file_ids.append(file_id)\n"
   ]
  },
  {
   "cell_type": "code",
   "execution_count": 4,
   "id": "ceba70b4-ed0e-4424-a2d7-3af77eac2e5e",
   "metadata": {},
   "outputs": [
    {
     "data": {
      "text/html": [
       "<div>\n",
       "<style scoped>\n",
       "    .dataframe tbody tr th:only-of-type {\n",
       "        vertical-align: middle;\n",
       "    }\n",
       "\n",
       "    .dataframe tbody tr th {\n",
       "        vertical-align: top;\n",
       "    }\n",
       "\n",
       "    .dataframe thead th {\n",
       "        text-align: right;\n",
       "    }\n",
       "</style>\n",
       "<table border=\"1\" class=\"dataframe\">\n",
       "  <thead>\n",
       "    <tr style=\"text-align: right;\">\n",
       "      <th></th>\n",
       "      <th>Id</th>\n",
       "      <th>sym_@</th>\n",
       "      <th>sym_?</th>\n",
       "      <th>sym_[</th>\n",
       "      <th>sym_]</th>\n",
       "      <th>sym_-</th>\n",
       "      <th>sym_+</th>\n",
       "      <th>sym_*</th>\n",
       "    </tr>\n",
       "  </thead>\n",
       "  <tbody>\n",
       "    <tr>\n",
       "      <th>0</th>\n",
       "      <td>0A32eTdBKayjCWhZqDOQ</td>\n",
       "      <td>3310</td>\n",
       "      <td>3801</td>\n",
       "      <td>4415</td>\n",
       "      <td>4185</td>\n",
       "      <td>51845</td>\n",
       "      <td>6773</td>\n",
       "      <td>2279</td>\n",
       "    </tr>\n",
       "    <tr>\n",
       "      <th>1</th>\n",
       "      <td>0ACDbR5M3ZhBJajygTuf</td>\n",
       "      <td>1996</td>\n",
       "      <td>977</td>\n",
       "      <td>698</td>\n",
       "      <td>698</td>\n",
       "      <td>7250</td>\n",
       "      <td>21624</td>\n",
       "      <td>4217</td>\n",
       "    </tr>\n",
       "  </tbody>\n",
       "</table>\n",
       "</div>"
      ],
      "text/plain": [
       "                     Id  sym_@  sym_?  sym_[  sym_]  sym_-  sym_+  sym_*\n",
       "0  0A32eTdBKayjCWhZqDOQ   3310   3801   4415   4185  51845   6773   2279\n",
       "1  0ACDbR5M3ZhBJajygTuf   1996    977    698    698   7250  21624   4217"
      ]
     },
     "execution_count": 4,
     "metadata": {},
     "output_type": "execute_result"
    }
   ],
   "source": [
    "df_sym = pd.DataFrame(symbol_features, columns=[f'sym_{s}' for s in SYMBOLS])\n",
    "df_sym.insert(0, 'Id', file_ids)\n",
    "\n",
    "os.makedirs('features', exist_ok=True)\n",
    "df_sym.to_csv('features/symbol_frequency.csv', index=False)\n",
    "\n",
    "# Preview\n",
    "df_sym.head()\n"
   ]
  }
 ],
 "metadata": {
  "kernelspec": {
   "display_name": "Python 3 (ipykernel)",
   "language": "python",
   "name": "python3"
  },
  "language_info": {
   "codemirror_mode": {
    "name": "ipython",
    "version": 3
   },
   "file_extension": ".py",
   "mimetype": "text/x-python",
   "name": "python",
   "nbconvert_exporter": "python",
   "pygments_lexer": "ipython3",
   "version": "3.13.1"
  }
 },
 "nbformat": 4,
 "nbformat_minor": 5
}
