{
 "cells": [
  {
   "cell_type": "code",
   "execution_count": 1,
   "id": "a9c0ceca-4b1a-4305-b2ec-e62628ca293b",
   "metadata": {},
   "outputs": [],
   "source": [
    "import pandas as pd\n",
    "import os\n",
    "from functools import reduce\n"
   ]
  },
  {
   "cell_type": "code",
   "execution_count": 2,
   "id": "d5a430a7-b3d9-45cb-a6b5-d68a4f70ab9e",
   "metadata": {},
   "outputs": [],
   "source": [
    "feature_files = [\n",
    "    'features/1gram_byte_frequency.csv',\n",
    "    'features/entropy_features.csv',\n",
    "    'features/metadata_md1.csv',\n",
    "    'features/str_length_distribution.csv',\n",
    "    'features/img1_haralick.csv',\n",
    "    'features/img2_lbp.csv',\n",
    "    'features/opcode_frequency.csv',\n",
    "    'features/api_frequency.csv',\n",
    "    'features/symbol_frequency.csv',\n",
    "    'features/register_usage.csv',\n",
    "    'features/data_definition_patterns.csv',\n",
    "    'features/metadata_md2.csv',\n",
    "    'features/section_features.csv',\n",
    "    'features/misc_features.csv'\n",
    "]\n"
   ]
  },
  {
   "cell_type": "code",
   "execution_count": 3,
   "id": "57713b87-287b-4662-944f-2434f9c0f164",
   "metadata": {},
   "outputs": [
    {
     "data": {
      "text/html": [
       "<div>\n",
       "<style scoped>\n",
       "    .dataframe tbody tr th:only-of-type {\n",
       "        vertical-align: middle;\n",
       "    }\n",
       "\n",
       "    .dataframe tbody tr th {\n",
       "        vertical-align: top;\n",
       "    }\n",
       "\n",
       "    .dataframe thead th {\n",
       "        text-align: right;\n",
       "    }\n",
       "</style>\n",
       "<table border=\"1\" class=\"dataframe\">\n",
       "  <thead>\n",
       "    <tr style=\"text-align: right;\">\n",
       "      <th></th>\n",
       "      <th>Id</th>\n",
       "      <th>byte_00</th>\n",
       "      <th>byte_01</th>\n",
       "      <th>byte_02</th>\n",
       "      <th>byte_03</th>\n",
       "      <th>byte_04</th>\n",
       "      <th>byte_05</th>\n",
       "      <th>byte_06</th>\n",
       "      <th>byte_07</th>\n",
       "      <th>byte_08</th>\n",
       "      <th>...</th>\n",
       "      <th>misc_ntdll.dll</th>\n",
       "      <th>misc_wsock32.dll</th>\n",
       "      <th>misc_advapi32.dll</th>\n",
       "      <th>misc_dll</th>\n",
       "      <th>misc_debug</th>\n",
       "      <th>misc_virtualalloc</th>\n",
       "      <th>misc_loadlibrarya</th>\n",
       "      <th>misc_exitprocess</th>\n",
       "      <th>misc_createprocessa</th>\n",
       "      <th>misc_------------</th>\n",
       "    </tr>\n",
       "  </thead>\n",
       "  <tbody>\n",
       "    <tr>\n",
       "      <th>0</th>\n",
       "      <td>0A32eTdBKayjCWhZqDOQ</td>\n",
       "      <td>69048</td>\n",
       "      <td>26559</td>\n",
       "      <td>25602</td>\n",
       "      <td>26567</td>\n",
       "      <td>4180</td>\n",
       "      <td>2573</td>\n",
       "      <td>2726</td>\n",
       "      <td>5327</td>\n",
       "      <td>4734</td>\n",
       "      <td>...</td>\n",
       "      <td>0</td>\n",
       "      <td>0</td>\n",
       "      <td>2</td>\n",
       "      <td>14</td>\n",
       "      <td>3</td>\n",
       "      <td>8</td>\n",
       "      <td>5</td>\n",
       "      <td>11</td>\n",
       "      <td>0</td>\n",
       "      <td>650</td>\n",
       "    </tr>\n",
       "    <tr>\n",
       "      <th>1</th>\n",
       "      <td>0ACDbR5M3ZhBJajygTuf</td>\n",
       "      <td>138046</td>\n",
       "      <td>124440</td>\n",
       "      <td>7938</td>\n",
       "      <td>126</td>\n",
       "      <td>6984</td>\n",
       "      <td>23</td>\n",
       "      <td>7459</td>\n",
       "      <td>17</td>\n",
       "      <td>6836</td>\n",
       "      <td>...</td>\n",
       "      <td>0</td>\n",
       "      <td>0</td>\n",
       "      <td>0</td>\n",
       "      <td>18</td>\n",
       "      <td>0</td>\n",
       "      <td>6</td>\n",
       "      <td>0</td>\n",
       "      <td>0</td>\n",
       "      <td>0</td>\n",
       "      <td>93</td>\n",
       "    </tr>\n",
       "  </tbody>\n",
       "</table>\n",
       "<p>2 rows × 461 columns</p>\n",
       "</div>"
      ],
      "text/plain": [
       "                     Id  byte_00  byte_01  byte_02  byte_03  byte_04  byte_05  \\\n",
       "0  0A32eTdBKayjCWhZqDOQ    69048    26559    25602    26567     4180     2573   \n",
       "1  0ACDbR5M3ZhBJajygTuf   138046   124440     7938      126     6984       23   \n",
       "\n",
       "   byte_06  byte_07  byte_08  ...  misc_ntdll.dll  misc_wsock32.dll  \\\n",
       "0     2726     5327     4734  ...               0                 0   \n",
       "1     7459       17     6836  ...               0                 0   \n",
       "\n",
       "   misc_advapi32.dll  misc_dll  misc_debug  misc_virtualalloc  \\\n",
       "0                  2        14           3                  8   \n",
       "1                  0        18           0                  6   \n",
       "\n",
       "   misc_loadlibrarya  misc_exitprocess  misc_createprocessa  misc_------------  \n",
       "0                  5                11                    0                650  \n",
       "1                  0                 0                    0                 93  \n",
       "\n",
       "[2 rows x 461 columns]"
      ]
     },
     "execution_count": 3,
     "metadata": {},
     "output_type": "execute_result"
    }
   ],
   "source": [
    "dfs = []\n",
    "\n",
    "for file in feature_files:\n",
    "    if os.path.exists(file):\n",
    "        df = pd.read_csv(file)\n",
    "        dfs.append(df)\n",
    "    else:\n",
    "        print(f\"❌ Missing file: {file}\")\n",
    "\n",
    "# Merge all on 'Id' using left join\n",
    "df_merged = reduce(lambda left, right: pd.merge(left, right, on='Id', how='left'), dfs)\n",
    "\n",
    "# Fill NaNs if any (can happen if some features are missing for a file)\n",
    "df_merged.fillna(0, inplace=True)\n",
    "\n",
    "# Preview\n",
    "df_merged.head()\n"
   ]
  },
  {
   "cell_type": "code",
   "execution_count": 4,
   "id": "038287f8-4edd-4c58-8036-dca864138037",
   "metadata": {},
   "outputs": [
    {
     "name": "stdout",
     "output_type": "stream",
     "text": [
      "✅ Final fused feature matrix saved as features/final_feature_matrix.csv\n"
     ]
    }
   ],
   "source": [
    "df_merged.to_csv('features/final_feature_matrix.csv', index=False)\n",
    "print(\"✅ Final fused feature matrix saved as features/final_feature_matrix.csv\")\n"
   ]
  },
  {
   "cell_type": "markdown",
   "id": "6d2dd779-1dfc-4dc4-8476-32dc943dd355",
   "metadata": {},
   "source": [
    "rop constant columns if needed or normalize features before training"
   ]
  },
  {
   "cell_type": "code",
   "execution_count": null,
   "id": "8d6cccb0-e464-4ccd-831e-76894554e919",
   "metadata": {},
   "outputs": [],
   "source": [
    "df_merged = df_merged.loc[:, df_merged.nunique() > 1]"
   ]
  },
  {
   "cell_type": "code",
   "execution_count": null,
   "id": "9cbdae3f-c08e-4612-aa63-dd69732c1b41",
   "metadata": {},
   "outputs": [],
   "source": [
    "from sklearn.preprocessing import StandardScaler\n",
    "features = df_merged.drop(columns=['Id'])\n",
    "scaled = StandardScaler().fit_transform(features)\n"
   ]
  }
 ],
 "metadata": {
  "kernelspec": {
   "display_name": "Python 3 (ipykernel)",
   "language": "python",
   "name": "python3"
  },
  "language_info": {
   "codemirror_mode": {
    "name": "ipython",
    "version": 3
   },
   "file_extension": ".py",
   "mimetype": "text/x-python",
   "name": "python",
   "nbconvert_exporter": "python",
   "pygments_lexer": "ipython3",
   "version": "3.13.1"
  }
 },
 "nbformat": 4,
 "nbformat_minor": 5
}
