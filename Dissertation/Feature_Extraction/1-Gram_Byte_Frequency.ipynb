{
 "cells": [
  {
   "cell_type": "code",
   "execution_count": 3,
   "id": "e2d52bd0-0e42-4416-83de-ed2f565d3248",
   "metadata": {},
   "outputs": [],
   "source": [
    "import os\n",
    "import pandas as pd\n",
    "from collections import Counter\n",
    "from tqdm.notebook import tqdm  # better progress bar in Jupyter\n",
    "\n",
    "# List of all possible byte values from 00 to FF\n",
    "BYTE_VALUES = [f\"{i:02X}\" for i in range(256)]\n"
   ]
  },
  {
   "cell_type": "code",
   "execution_count": 4,
   "id": "3e58ed94-6b16-4582-bb8d-6aa38e8d90fc",
   "metadata": {},
   "outputs": [],
   "source": [
    "def extract_1gram(file_path):\n",
    "    counter = Counter()\n",
    "    with open(file_path, 'r') as f:\n",
    "        for line in f:\n",
    "            parts = line.strip().split()[1:]  # Skip the address\n",
    "            valid_bytes = [b for b in parts if b != '??']\n",
    "            counter.update(valid_bytes)\n",
    "    # Return a fixed-length 256-dim feature vector\n",
    "    return [counter.get(b, 0) for b in BYTE_VALUES]\n"
   ]
  },
  {
   "cell_type": "code",
   "execution_count": 5,
   "id": "40afe45f-3f38-40af-81c4-867abd63e29e",
   "metadata": {},
   "outputs": [
    {
     "data": {
      "application/vnd.jupyter.widget-view+json": {
       "model_id": "eaf22859450047f18490a3c451868cdd",
       "version_major": 2,
       "version_minor": 0
      },
      "text/plain": [
       "  0%|          | 0/7 [00:00<?, ?it/s]"
      ]
     },
     "metadata": {},
     "output_type": "display_data"
    }
   ],
   "source": [
    "data = []\n",
    "file_ids = []\n",
    "\n",
    "# Scan current folder for .bytes files\n",
    "for filename in tqdm(os.listdir('.')):\n",
    "    if filename.endswith('.bytes'):\n",
    "        file_id = filename.replace('.bytes', '')\n",
    "        file_path = os.path.join('.', filename)\n",
    "        vector = extract_1gram(file_path)\n",
    "        data.append(vector)\n",
    "        file_ids.append(file_id)\n"
   ]
  },
  {
   "cell_type": "code",
   "execution_count": 6,
   "id": "91dc4db0-2a63-40a9-97a5-2493570f9fbf",
   "metadata": {},
   "outputs": [
    {
     "data": {
      "text/html": [
       "<div>\n",
       "<style scoped>\n",
       "    .dataframe tbody tr th:only-of-type {\n",
       "        vertical-align: middle;\n",
       "    }\n",
       "\n",
       "    .dataframe tbody tr th {\n",
       "        vertical-align: top;\n",
       "    }\n",
       "\n",
       "    .dataframe thead th {\n",
       "        text-align: right;\n",
       "    }\n",
       "</style>\n",
       "<table border=\"1\" class=\"dataframe\">\n",
       "  <thead>\n",
       "    <tr style=\"text-align: right;\">\n",
       "      <th></th>\n",
       "      <th>Id</th>\n",
       "      <th>byte_00</th>\n",
       "      <th>byte_01</th>\n",
       "      <th>byte_02</th>\n",
       "      <th>byte_03</th>\n",
       "      <th>byte_04</th>\n",
       "      <th>byte_05</th>\n",
       "      <th>byte_06</th>\n",
       "      <th>byte_07</th>\n",
       "      <th>byte_08</th>\n",
       "      <th>...</th>\n",
       "      <th>byte_F6</th>\n",
       "      <th>byte_F7</th>\n",
       "      <th>byte_F8</th>\n",
       "      <th>byte_F9</th>\n",
       "      <th>byte_FA</th>\n",
       "      <th>byte_FB</th>\n",
       "      <th>byte_FC</th>\n",
       "      <th>byte_FD</th>\n",
       "      <th>byte_FE</th>\n",
       "      <th>byte_FF</th>\n",
       "    </tr>\n",
       "  </thead>\n",
       "  <tbody>\n",
       "    <tr>\n",
       "      <th>0</th>\n",
       "      <td>0A32eTdBKayjCWhZqDOQ</td>\n",
       "      <td>69048</td>\n",
       "      <td>26559</td>\n",
       "      <td>25602</td>\n",
       "      <td>26567</td>\n",
       "      <td>4180</td>\n",
       "      <td>2573</td>\n",
       "      <td>2726</td>\n",
       "      <td>5327</td>\n",
       "      <td>4734</td>\n",
       "      <td>...</td>\n",
       "      <td>2149</td>\n",
       "      <td>1964</td>\n",
       "      <td>2388</td>\n",
       "      <td>1738</td>\n",
       "      <td>1248</td>\n",
       "      <td>1446</td>\n",
       "      <td>2240</td>\n",
       "      <td>1464</td>\n",
       "      <td>2276</td>\n",
       "      <td>24714</td>\n",
       "    </tr>\n",
       "    <tr>\n",
       "      <th>1</th>\n",
       "      <td>0ACDbR5M3ZhBJajygTuf</td>\n",
       "      <td>138046</td>\n",
       "      <td>124440</td>\n",
       "      <td>7938</td>\n",
       "      <td>126</td>\n",
       "      <td>6984</td>\n",
       "      <td>23</td>\n",
       "      <td>7459</td>\n",
       "      <td>17</td>\n",
       "      <td>6836</td>\n",
       "      <td>...</td>\n",
       "      <td>77</td>\n",
       "      <td>11</td>\n",
       "      <td>86</td>\n",
       "      <td>64</td>\n",
       "      <td>66</td>\n",
       "      <td>60</td>\n",
       "      <td>24</td>\n",
       "      <td>8</td>\n",
       "      <td>78</td>\n",
       "      <td>653</td>\n",
       "    </tr>\n",
       "  </tbody>\n",
       "</table>\n",
       "<p>2 rows × 257 columns</p>\n",
       "</div>"
      ],
      "text/plain": [
       "                     Id  byte_00  byte_01  byte_02  byte_03  byte_04  byte_05  \\\n",
       "0  0A32eTdBKayjCWhZqDOQ    69048    26559    25602    26567     4180     2573   \n",
       "1  0ACDbR5M3ZhBJajygTuf   138046   124440     7938      126     6984       23   \n",
       "\n",
       "   byte_06  byte_07  byte_08  ...  byte_F6  byte_F7  byte_F8  byte_F9  \\\n",
       "0     2726     5327     4734  ...     2149     1964     2388     1738   \n",
       "1     7459       17     6836  ...       77       11       86       64   \n",
       "\n",
       "   byte_FA  byte_FB  byte_FC  byte_FD  byte_FE  byte_FF  \n",
       "0     1248     1446     2240     1464     2276    24714  \n",
       "1       66       60       24        8       78      653  \n",
       "\n",
       "[2 rows x 257 columns]"
      ]
     },
     "execution_count": 6,
     "metadata": {},
     "output_type": "execute_result"
    }
   ],
   "source": [
    "df = pd.DataFrame(data, columns=[f'byte_{b}' for b in BYTE_VALUES])\n",
    "df.insert(0, 'Id', file_ids)\n",
    "\n",
    "# Save to disk\n",
    "os.makedirs('features', exist_ok=True)\n",
    "df.to_csv('features/1gram_byte_frequency.csv', index=False)\n",
    "\n",
    "# Or preview in notebook\n",
    "df.head()\n"
   ]
  }
 ],
 "metadata": {
  "kernelspec": {
   "display_name": "Python 3 (ipykernel)",
   "language": "python",
   "name": "python3"
  },
  "language_info": {
   "codemirror_mode": {
    "name": "ipython",
    "version": 3
   },
   "file_extension": ".py",
   "mimetype": "text/x-python",
   "name": "python",
   "nbconvert_exporter": "python",
   "pygments_lexer": "ipython3",
   "version": "3.13.1"
  }
 },
 "nbformat": 4,
 "nbformat_minor": 5
}
