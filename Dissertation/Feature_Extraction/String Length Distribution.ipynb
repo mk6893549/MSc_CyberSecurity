{
 "cells": [
  {
   "cell_type": "code",
   "execution_count": 2,
   "id": "bf0b8744-fa19-4755-ae76-215385761932",
   "metadata": {},
   "outputs": [],
   "source": [
    "import os\n",
    "import re\n",
    "import pandas as pd\n",
    "import numpy as np\n",
    "from tqdm.notebook import tqdm\n"
   ]
  },
  {
   "cell_type": "code",
   "execution_count": 4,
   "id": "7ea56abf-c452-408c-a3cc-0f65cf36d419",
   "metadata": {},
   "outputs": [],
   "source": [
    "def extract_ascii_strings(file_path, min_length=4):\n",
    "    # Extract hex bytes\n",
    "    with open(file_path, 'r') as f:\n",
    "        all_bytes = []\n",
    "        for line in f:\n",
    "            parts = line.strip().split()[1:]  # skip address\n",
    "            all_bytes.extend([b for b in parts if b != '??'])\n",
    "\n",
    "    # Convert to raw byte string\n",
    "    try:\n",
    "        byte_data = bytes([int(b, 16) for b in all_bytes])\n",
    "    except ValueError:\n",
    "        return []  # Skip if conversion fails\n",
    "\n",
    "    # Use regex to find ASCII printable strings (length ≥ min_length)\n",
    "    strings = re.findall(rb'[ -~]{%d,}' % min_length, byte_data)\n",
    "    return [len(s) for s in strings]\n"
   ]
  },
  {
   "cell_type": "code",
   "execution_count": 5,
   "id": "478d5fa6-7fc2-4545-ad6f-f82bad901691",
   "metadata": {},
   "outputs": [],
   "source": [
    "def str_length_histogram(lengths, bins=(0,10,20,30,40,50,60,70,80,90,100,1000)):\n",
    "    hist, _ = np.histogram(lengths, bins=bins)\n",
    "    return hist.tolist()\n"
   ]
  },
  {
   "cell_type": "code",
   "execution_count": 6,
   "id": "c19d8021-ee15-4615-8941-51629a772f75",
   "metadata": {},
   "outputs": [
    {
     "data": {
      "application/vnd.jupyter.widget-view+json": {
       "model_id": "4ae4ab8ff4d14d99be859ffc3df433b3",
       "version_major": 2,
       "version_minor": 0
      },
      "text/plain": [
       "  0%|          | 0/10 [00:00<?, ?it/s]"
      ]
     },
     "metadata": {},
     "output_type": "display_data"
    }
   ],
   "source": [
    "str_features = []\n",
    "file_ids = []\n",
    "\n",
    "for filename in tqdm(os.listdir('.')):\n",
    "    if filename.endswith('.bytes'):\n",
    "        file_id = filename.replace('.bytes', '')\n",
    "        file_path = os.path.join('.', filename)\n",
    "        lengths = extract_ascii_strings(file_path)\n",
    "        hist = str_length_histogram(lengths)\n",
    "        str_features.append(hist)\n",
    "        file_ids.append(file_id)\n"
   ]
  },
  {
   "cell_type": "code",
   "execution_count": 7,
   "id": "90d0d124-4fd5-4869-935e-90ec8fc29378",
   "metadata": {},
   "outputs": [
    {
     "data": {
      "text/html": [
       "<div>\n",
       "<style scoped>\n",
       "    .dataframe tbody tr th:only-of-type {\n",
       "        vertical-align: middle;\n",
       "    }\n",
       "\n",
       "    .dataframe tbody tr th {\n",
       "        vertical-align: top;\n",
       "    }\n",
       "\n",
       "    .dataframe thead th {\n",
       "        text-align: right;\n",
       "    }\n",
       "</style>\n",
       "<table border=\"1\" class=\"dataframe\">\n",
       "  <thead>\n",
       "    <tr style=\"text-align: right;\">\n",
       "      <th></th>\n",
       "      <th>Id</th>\n",
       "      <th>len_0_10</th>\n",
       "      <th>len_11_20</th>\n",
       "      <th>len_21_30</th>\n",
       "      <th>len_31_40</th>\n",
       "      <th>len_41_50</th>\n",
       "      <th>len_51_60</th>\n",
       "      <th>len_61_70</th>\n",
       "      <th>len_71_80</th>\n",
       "      <th>len_81_90</th>\n",
       "      <th>len_91_100</th>\n",
       "      <th>len_100+</th>\n",
       "    </tr>\n",
       "  </thead>\n",
       "  <tbody>\n",
       "    <tr>\n",
       "      <th>0</th>\n",
       "      <td>0A32eTdBKayjCWhZqDOQ</td>\n",
       "      <td>14790</td>\n",
       "      <td>717</td>\n",
       "      <td>47</td>\n",
       "      <td>19</td>\n",
       "      <td>11</td>\n",
       "      <td>0</td>\n",
       "      <td>2</td>\n",
       "      <td>3</td>\n",
       "      <td>0</td>\n",
       "      <td>3</td>\n",
       "      <td>1</td>\n",
       "    </tr>\n",
       "    <tr>\n",
       "      <th>1</th>\n",
       "      <td>0ACDbR5M3ZhBJajygTuf</td>\n",
       "      <td>32</td>\n",
       "      <td>50</td>\n",
       "      <td>21</td>\n",
       "      <td>6</td>\n",
       "      <td>2</td>\n",
       "      <td>2</td>\n",
       "      <td>1</td>\n",
       "      <td>1</td>\n",
       "      <td>1</td>\n",
       "      <td>1</td>\n",
       "      <td>0</td>\n",
       "    </tr>\n",
       "  </tbody>\n",
       "</table>\n",
       "</div>"
      ],
      "text/plain": [
       "                     Id  len_0_10  len_11_20  len_21_30  len_31_40  len_41_50  \\\n",
       "0  0A32eTdBKayjCWhZqDOQ     14790        717         47         19         11   \n",
       "1  0ACDbR5M3ZhBJajygTuf        32         50         21          6          2   \n",
       "\n",
       "   len_51_60  len_61_70  len_71_80  len_81_90  len_91_100  len_100+  \n",
       "0          0          2          3          0           3         1  \n",
       "1          2          1          1          1           1         0  "
      ]
     },
     "execution_count": 7,
     "metadata": {},
     "output_type": "execute_result"
    }
   ],
   "source": [
    "bin_labels = ['len_0_10', 'len_11_20', 'len_21_30', 'len_31_40', 'len_41_50',\n",
    "              'len_51_60', 'len_61_70', 'len_71_80', 'len_81_90', 'len_91_100', 'len_100+']\n",
    "\n",
    "df_str = pd.DataFrame(str_features, columns=bin_labels)\n",
    "df_str.insert(0, 'Id', file_ids)\n",
    "\n",
    "# Save to CSV\n",
    "os.makedirs('features', exist_ok=True)\n",
    "df_str.to_csv('features/str_length_distribution.csv', index=False)\n",
    "\n",
    "# View sample\n",
    "df_str.head()\n"
   ]
  }
 ],
 "metadata": {
  "kernelspec": {
   "display_name": "Python 3 (ipykernel)",
   "language": "python",
   "name": "python3"
  },
  "language_info": {
   "codemirror_mode": {
    "name": "ipython",
    "version": 3
   },
   "file_extension": ".py",
   "mimetype": "text/x-python",
   "name": "python",
   "nbconvert_exporter": "python",
   "pygments_lexer": "ipython3",
   "version": "3.13.1"
  }
 },
 "nbformat": 4,
 "nbformat_minor": 5
}
