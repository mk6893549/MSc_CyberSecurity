{
 "cells": [
  {
   "cell_type": "code",
   "execution_count": 1,
   "id": "d68eb8e9-de73-4eae-84b8-c4597debf3c4",
   "metadata": {},
   "outputs": [],
   "source": [
    "import os\n",
    "import re\n",
    "import pandas as pd\n",
    "from collections import Counter\n",
    "from tqdm.notebook import tqdm\n",
    "\n",
    "# Define the registers to track (common x86 general-purpose + extended)\n",
    "REGISTERS = [\n",
    "    'eax', 'ebx', 'ecx', 'edx',\n",
    "    'esi', 'edi', 'esp', 'ebp',\n",
    "    'ax', 'bx', 'cx', 'dx',\n",
    "    'al', 'ah', 'bl', 'bh', 'cl', 'ch', 'dl', 'dh'\n",
    "]\n"
   ]
  },
  {
   "cell_type": "code",
   "execution_count": 2,
   "id": "6e4593c2-e457-41ec-a71d-f809561fc057",
   "metadata": {},
   "outputs": [],
   "source": [
    "def extract_register_usage(file_path, registers):\n",
    "    counter = Counter()\n",
    "    reg_set = set(registers)\n",
    "\n",
    "    with open(file_path, 'r', errors='ignore') as f:\n",
    "        for line in f:\n",
    "            tokens = re.findall(r'\\b[a-zA-Z]{2,3}\\b', line.lower())\n",
    "            for token in tokens:\n",
    "                if token in reg_set:\n",
    "                    counter[token] += 1\n",
    "\n",
    "    return [counter.get(r, 0) for r in registers]\n"
   ]
  },
  {
   "cell_type": "code",
   "execution_count": 3,
   "id": "3c8d997d-db6f-4c30-9f10-90b5dc222c6e",
   "metadata": {},
   "outputs": [
    {
     "data": {
      "application/vnd.jupyter.widget-view+json": {
       "model_id": "ce784e9dcdf0495ba69da57eb3393689",
       "version_major": 2,
       "version_minor": 0
      },
      "text/plain": [
       "  0%|          | 0/16 [00:00<?, ?it/s]"
      ]
     },
     "metadata": {},
     "output_type": "display_data"
    }
   ],
   "source": [
    "reg_features = []\n",
    "file_ids = []\n",
    "\n",
    "for filename in tqdm(os.listdir('.')):\n",
    "    if filename.endswith('.asm'):\n",
    "        file_id = filename.replace('.asm', '')\n",
    "        file_path = os.path.join('.', filename)\n",
    "        try:\n",
    "            features = extract_register_usage(file_path, REGISTERS)\n",
    "        except Exception as e:\n",
    "            print(f\"Error processing {file_path}: {e}\")\n",
    "            features = [0] * len(REGISTERS)\n",
    "        reg_features.append(features)\n",
    "        file_ids.append(file_id)\n"
   ]
  },
  {
   "cell_type": "code",
   "execution_count": 4,
   "id": "828d1f86-8425-4561-ac53-e47644e312ca",
   "metadata": {},
   "outputs": [
    {
     "data": {
      "text/html": [
       "<div>\n",
       "<style scoped>\n",
       "    .dataframe tbody tr th:only-of-type {\n",
       "        vertical-align: middle;\n",
       "    }\n",
       "\n",
       "    .dataframe tbody tr th {\n",
       "        vertical-align: top;\n",
       "    }\n",
       "\n",
       "    .dataframe thead th {\n",
       "        text-align: right;\n",
       "    }\n",
       "</style>\n",
       "<table border=\"1\" class=\"dataframe\">\n",
       "  <thead>\n",
       "    <tr style=\"text-align: right;\">\n",
       "      <th></th>\n",
       "      <th>Id</th>\n",
       "      <th>reg_eax</th>\n",
       "      <th>reg_ebx</th>\n",
       "      <th>reg_ecx</th>\n",
       "      <th>reg_edx</th>\n",
       "      <th>reg_esi</th>\n",
       "      <th>reg_edi</th>\n",
       "      <th>reg_esp</th>\n",
       "      <th>reg_ebp</th>\n",
       "      <th>reg_ax</th>\n",
       "      <th>...</th>\n",
       "      <th>reg_cx</th>\n",
       "      <th>reg_dx</th>\n",
       "      <th>reg_al</th>\n",
       "      <th>reg_ah</th>\n",
       "      <th>reg_bl</th>\n",
       "      <th>reg_bh</th>\n",
       "      <th>reg_cl</th>\n",
       "      <th>reg_ch</th>\n",
       "      <th>reg_dl</th>\n",
       "      <th>reg_dh</th>\n",
       "    </tr>\n",
       "  </thead>\n",
       "  <tbody>\n",
       "    <tr>\n",
       "      <th>0</th>\n",
       "      <td>0A32eTdBKayjCWhZqDOQ</td>\n",
       "      <td>3285</td>\n",
       "      <td>447</td>\n",
       "      <td>1431</td>\n",
       "      <td>960</td>\n",
       "      <td>1829</td>\n",
       "      <td>755</td>\n",
       "      <td>347</td>\n",
       "      <td>1352</td>\n",
       "      <td>8</td>\n",
       "      <td>...</td>\n",
       "      <td>24</td>\n",
       "      <td>7</td>\n",
       "      <td>201</td>\n",
       "      <td>0</td>\n",
       "      <td>28</td>\n",
       "      <td>0</td>\n",
       "      <td>138</td>\n",
       "      <td>0</td>\n",
       "      <td>24</td>\n",
       "      <td>0</td>\n",
       "    </tr>\n",
       "    <tr>\n",
       "      <th>1</th>\n",
       "      <td>0ACDbR5M3ZhBJajygTuf</td>\n",
       "      <td>339</td>\n",
       "      <td>313</td>\n",
       "      <td>326</td>\n",
       "      <td>332</td>\n",
       "      <td>298</td>\n",
       "      <td>279</td>\n",
       "      <td>10</td>\n",
       "      <td>623</td>\n",
       "      <td>0</td>\n",
       "      <td>...</td>\n",
       "      <td>0</td>\n",
       "      <td>0</td>\n",
       "      <td>1</td>\n",
       "      <td>1</td>\n",
       "      <td>0</td>\n",
       "      <td>0</td>\n",
       "      <td>0</td>\n",
       "      <td>0</td>\n",
       "      <td>0</td>\n",
       "      <td>0</td>\n",
       "    </tr>\n",
       "  </tbody>\n",
       "</table>\n",
       "<p>2 rows × 21 columns</p>\n",
       "</div>"
      ],
      "text/plain": [
       "                     Id  reg_eax  reg_ebx  reg_ecx  reg_edx  reg_esi  reg_edi  \\\n",
       "0  0A32eTdBKayjCWhZqDOQ     3285      447     1431      960     1829      755   \n",
       "1  0ACDbR5M3ZhBJajygTuf      339      313      326      332      298      279   \n",
       "\n",
       "   reg_esp  reg_ebp  reg_ax  ...  reg_cx  reg_dx  reg_al  reg_ah  reg_bl  \\\n",
       "0      347     1352       8  ...      24       7     201       0      28   \n",
       "1       10      623       0  ...       0       0       1       1       0   \n",
       "\n",
       "   reg_bh  reg_cl  reg_ch  reg_dl  reg_dh  \n",
       "0       0     138       0      24       0  \n",
       "1       0       0       0       0       0  \n",
       "\n",
       "[2 rows x 21 columns]"
      ]
     },
     "execution_count": 4,
     "metadata": {},
     "output_type": "execute_result"
    }
   ],
   "source": [
    "df_reg = pd.DataFrame(reg_features, columns=[f'reg_{r}' for r in REGISTERS])\n",
    "df_reg.insert(0, 'Id', file_ids)\n",
    "\n",
    "os.makedirs('features', exist_ok=True)\n",
    "df_reg.to_csv('features/register_usage.csv', index=False)\n",
    "\n",
    "# Preview\n",
    "df_reg.head()\n"
   ]
  }
 ],
 "metadata": {
  "kernelspec": {
   "display_name": "Python 3 (ipykernel)",
   "language": "python",
   "name": "python3"
  },
  "language_info": {
   "codemirror_mode": {
    "name": "ipython",
    "version": 3
   },
   "file_extension": ".py",
   "mimetype": "text/x-python",
   "name": "python",
   "nbconvert_exporter": "python",
   "pygments_lexer": "ipython3",
   "version": "3.13.1"
  }
 },
 "nbformat": 4,
 "nbformat_minor": 5
}
