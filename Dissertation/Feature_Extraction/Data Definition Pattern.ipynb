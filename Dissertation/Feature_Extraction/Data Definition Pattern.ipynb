{
 "cells": [
  {
   "cell_type": "code",
   "execution_count": 1,
   "id": "2e712451-95db-4db8-83df-8fd8fca0e5d2",
   "metadata": {},
   "outputs": [],
   "source": [
    "import os\n",
    "import re\n",
    "import pandas as pd\n",
    "from collections import Counter\n",
    "from tqdm.notebook import tqdm\n",
    "\n",
    "# DP patterns to track (names will match paper's format)\n",
    "DP_FEATURES = [\n",
    "    'db_count', 'dd_count', 'dw_count', 'dc_count',\n",
    "    'db_0_count', 'db_non0_count',\n",
    "    'dd_4param', 'dd_5param', 'dd_6param'\n",
    "]\n"
   ]
  },
  {
   "cell_type": "code",
   "execution_count": 2,
   "id": "a7138f6a-37f8-423e-91dc-81e2dc535114",
   "metadata": {},
   "outputs": [],
   "source": [
    "def extract_data_definition(file_path):\n",
    "    db_count = 0\n",
    "    dd_count = 0\n",
    "    dw_count = 0\n",
    "    db_0 = 0\n",
    "    db_non0 = 0\n",
    "    dd_4 = dd_5 = dd_6 = 0\n",
    "\n",
    "    with open(file_path, 'r', errors='ignore') as f:\n",
    "        for line in f:\n",
    "            tokens = line.strip().split()\n",
    "            if len(tokens) < 2:\n",
    "                continue\n",
    "            mnemonic = tokens[1].lower()\n",
    "            operands = tokens[2:] if len(tokens) > 2 else []\n",
    "\n",
    "            if mnemonic == 'db':\n",
    "                db_count += 1\n",
    "                if operands:\n",
    "                    if all(op == '0' or op == '00h' for op in operands):\n",
    "                        db_0 += 1\n",
    "                    else:\n",
    "                        db_non0 += 1\n",
    "            elif mnemonic == 'dd':\n",
    "                dd_count += 1\n",
    "                if 4 <= len(operands) <= 6:\n",
    "                    if len(operands) == 4:\n",
    "                        dd_4 += 1\n",
    "                    elif len(operands) == 5:\n",
    "                        dd_5 += 1\n",
    "                    elif len(operands) == 6:\n",
    "                        dd_6 += 1\n",
    "            elif mnemonic == 'dw':\n",
    "                dw_count += 1\n",
    "\n",
    "    dc_count = db_count + dd_count + dw_count\n",
    "    return [\n",
    "        db_count, dd_count, dw_count, dc_count,\n",
    "        db_0, db_non0,\n",
    "        dd_4, dd_5, dd_6\n",
    "    ]\n"
   ]
  },
  {
   "cell_type": "code",
   "execution_count": 3,
   "id": "d7e52671-8022-49cf-8c13-894c2a1553f2",
   "metadata": {},
   "outputs": [
    {
     "data": {
      "application/vnd.jupyter.widget-view+json": {
       "model_id": "4f2fc8c720f64337b4d69e56329fedee",
       "version_major": 2,
       "version_minor": 0
      },
      "text/plain": [
       "  0%|          | 0/17 [00:00<?, ?it/s]"
      ]
     },
     "metadata": {},
     "output_type": "display_data"
    }
   ],
   "source": [
    "dp_features = []\n",
    "file_ids = []\n",
    "\n",
    "for filename in tqdm(os.listdir('.')):\n",
    "    if filename.endswith('.asm'):\n",
    "        file_id = filename.replace('.asm', '')\n",
    "        file_path = os.path.join('.', filename)\n",
    "        try:\n",
    "            features = extract_data_definition(file_path)\n",
    "        except Exception as e:\n",
    "            print(f\"Error processing {file_path}: {e}\")\n",
    "            features = [0] * len(DP_FEATURES)\n",
    "        dp_features.append(features)\n",
    "        file_ids.append(file_id)\n"
   ]
  },
  {
   "cell_type": "code",
   "execution_count": 4,
   "id": "f45ff1c7-e486-4b1a-8260-40ed4a28af23",
   "metadata": {},
   "outputs": [
    {
     "data": {
      "text/html": [
       "<div>\n",
       "<style scoped>\n",
       "    .dataframe tbody tr th:only-of-type {\n",
       "        vertical-align: middle;\n",
       "    }\n",
       "\n",
       "    .dataframe tbody tr th {\n",
       "        vertical-align: top;\n",
       "    }\n",
       "\n",
       "    .dataframe thead th {\n",
       "        text-align: right;\n",
       "    }\n",
       "</style>\n",
       "<table border=\"1\" class=\"dataframe\">\n",
       "  <thead>\n",
       "    <tr style=\"text-align: right;\">\n",
       "      <th></th>\n",
       "      <th>Id</th>\n",
       "      <th>db_count</th>\n",
       "      <th>dd_count</th>\n",
       "      <th>dw_count</th>\n",
       "      <th>dc_count</th>\n",
       "      <th>db_0_count</th>\n",
       "      <th>db_non0_count</th>\n",
       "      <th>dd_4param</th>\n",
       "      <th>dd_5param</th>\n",
       "      <th>dd_6param</th>\n",
       "    </tr>\n",
       "  </thead>\n",
       "  <tbody>\n",
       "    <tr>\n",
       "      <th>0</th>\n",
       "      <td>0A32eTdBKayjCWhZqDOQ</td>\n",
       "      <td>1184</td>\n",
       "      <td>1439</td>\n",
       "      <td>0</td>\n",
       "      <td>2623</td>\n",
       "      <td>0</td>\n",
       "      <td>1184</td>\n",
       "      <td>1160</td>\n",
       "      <td>0</td>\n",
       "      <td>4</td>\n",
       "    </tr>\n",
       "    <tr>\n",
       "      <th>1</th>\n",
       "      <td>0ACDbR5M3ZhBJajygTuf</td>\n",
       "      <td>0</td>\n",
       "      <td>0</td>\n",
       "      <td>0</td>\n",
       "      <td>0</td>\n",
       "      <td>0</td>\n",
       "      <td>0</td>\n",
       "      <td>0</td>\n",
       "      <td>0</td>\n",
       "      <td>0</td>\n",
       "    </tr>\n",
       "  </tbody>\n",
       "</table>\n",
       "</div>"
      ],
      "text/plain": [
       "                     Id  db_count  dd_count  dw_count  dc_count  db_0_count  \\\n",
       "0  0A32eTdBKayjCWhZqDOQ      1184      1439         0      2623           0   \n",
       "1  0ACDbR5M3ZhBJajygTuf         0         0         0         0           0   \n",
       "\n",
       "   db_non0_count  dd_4param  dd_5param  dd_6param  \n",
       "0           1184       1160          0          4  \n",
       "1              0          0          0          0  "
      ]
     },
     "execution_count": 4,
     "metadata": {},
     "output_type": "execute_result"
    }
   ],
   "source": [
    "df_dp = pd.DataFrame(dp_features, columns=DP_FEATURES)\n",
    "df_dp.insert(0, 'Id', file_ids)\n",
    "\n",
    "os.makedirs('features', exist_ok=True)\n",
    "df_dp.to_csv('features/data_definition_patterns.csv', index=False)\n",
    "\n",
    "# Preview\n",
    "df_dp.head()\n"
   ]
  }
 ],
 "metadata": {
  "kernelspec": {
   "display_name": "Python 3 (ipykernel)",
   "language": "python",
   "name": "python3"
  },
  "language_info": {
   "codemirror_mode": {
    "name": "ipython",
    "version": 3
   },
   "file_extension": ".py",
   "mimetype": "text/x-python",
   "name": "python",
   "nbconvert_exporter": "python",
   "pygments_lexer": "ipython3",
   "version": "3.13.1"
  }
 },
 "nbformat": 4,
 "nbformat_minor": 5
}
