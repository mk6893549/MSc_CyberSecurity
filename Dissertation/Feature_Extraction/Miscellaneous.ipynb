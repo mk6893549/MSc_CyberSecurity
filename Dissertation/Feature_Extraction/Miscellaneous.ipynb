{
 "cells": [
  {
   "cell_type": "code",
   "execution_count": 1,
   "id": "6ea7eb27-99ce-4e10-b43f-3bf937f725c4",
   "metadata": {},
   "outputs": [],
   "source": [
    "import os\n",
    "import re\n",
    "import pandas as pd\n",
    "from collections import Counter\n",
    "from tqdm.notebook import tqdm\n",
    "\n",
    "# Sample of 15 misc keywords (you can expand this as needed)\n",
    "MISC_KEYWORDS = [\n",
    "    'hkey_local_machine', 'hkey_current_user', 'kernel32.dll', 'user32.dll',\n",
    "    'shell32.dll', 'ntdll.dll', 'wsock32.dll', 'advapi32.dll',\n",
    "    'dll', 'debug', 'virtualalloc', 'loadlibrarya', 'exitprocess',\n",
    "    'createprocessa', '------------'  # dashed lines in IDA\n",
    "]\n"
   ]
  },
  {
   "cell_type": "code",
   "execution_count": 2,
   "id": "151effe3-1e25-4686-b0ae-bce7d718bd7a",
   "metadata": {},
   "outputs": [],
   "source": [
    "def extract_misc_features(file_path, keywords):\n",
    "    counter = Counter()\n",
    "    keywords_lower = [k.lower() for k in keywords]\n",
    "\n",
    "    with open(file_path, 'r', errors='ignore') as f:\n",
    "        for line in f:\n",
    "            line = line.lower()\n",
    "            for keyword in keywords_lower:\n",
    "                if keyword in line:\n",
    "                    counter[keyword] += 1\n",
    "\n",
    "    return [counter.get(k, 0) for k in keywords_lower]\n"
   ]
  },
  {
   "cell_type": "code",
   "execution_count": 3,
   "id": "22b60847-3c61-4160-8878-71d4a307e96a",
   "metadata": {},
   "outputs": [
    {
     "data": {
      "application/vnd.jupyter.widget-view+json": {
       "model_id": "dc03e84ba87442cea21eaa1175bb912b",
       "version_major": 2,
       "version_minor": 0
      },
      "text/plain": [
       "  0%|          | 0/20 [00:00<?, ?it/s]"
      ]
     },
     "metadata": {},
     "output_type": "display_data"
    }
   ],
   "source": [
    "misc_features = []\n",
    "file_ids = []\n",
    "\n",
    "for filename in tqdm(os.listdir('.')):\n",
    "    if filename.endswith('.asm'):\n",
    "        file_id = filename.replace('.asm', '')\n",
    "        file_path = os.path.join('.', filename)\n",
    "        try:\n",
    "            features = extract_misc_features(file_path, MISC_KEYWORDS)\n",
    "        except Exception as e:\n",
    "            print(f\"Error in {file_path}: {e}\")\n",
    "            features = [0] * len(MISC_KEYWORDS)\n",
    "        misc_features.append(features)\n",
    "        file_ids.append(file_id)\n"
   ]
  },
  {
   "cell_type": "code",
   "execution_count": 4,
   "id": "90843e2c-f9b0-41be-a543-64abe22fddf8",
   "metadata": {},
   "outputs": [
    {
     "data": {
      "text/html": [
       "<div>\n",
       "<style scoped>\n",
       "    .dataframe tbody tr th:only-of-type {\n",
       "        vertical-align: middle;\n",
       "    }\n",
       "\n",
       "    .dataframe tbody tr th {\n",
       "        vertical-align: top;\n",
       "    }\n",
       "\n",
       "    .dataframe thead th {\n",
       "        text-align: right;\n",
       "    }\n",
       "</style>\n",
       "<table border=\"1\" class=\"dataframe\">\n",
       "  <thead>\n",
       "    <tr style=\"text-align: right;\">\n",
       "      <th></th>\n",
       "      <th>Id</th>\n",
       "      <th>misc_hkey_local_machine</th>\n",
       "      <th>misc_hkey_current_user</th>\n",
       "      <th>misc_kernel32.dll</th>\n",
       "      <th>misc_user32.dll</th>\n",
       "      <th>misc_shell32.dll</th>\n",
       "      <th>misc_ntdll.dll</th>\n",
       "      <th>misc_wsock32.dll</th>\n",
       "      <th>misc_advapi32.dll</th>\n",
       "      <th>misc_dll</th>\n",
       "      <th>misc_debug</th>\n",
       "      <th>misc_virtualalloc</th>\n",
       "      <th>misc_loadlibrarya</th>\n",
       "      <th>misc_exitprocess</th>\n",
       "      <th>misc_createprocessa</th>\n",
       "      <th>misc_------------</th>\n",
       "    </tr>\n",
       "  </thead>\n",
       "  <tbody>\n",
       "    <tr>\n",
       "      <th>0</th>\n",
       "      <td>0A32eTdBKayjCWhZqDOQ</td>\n",
       "      <td>0</td>\n",
       "      <td>0</td>\n",
       "      <td>1</td>\n",
       "      <td>3</td>\n",
       "      <td>0</td>\n",
       "      <td>0</td>\n",
       "      <td>0</td>\n",
       "      <td>2</td>\n",
       "      <td>14</td>\n",
       "      <td>3</td>\n",
       "      <td>8</td>\n",
       "      <td>5</td>\n",
       "      <td>11</td>\n",
       "      <td>0</td>\n",
       "      <td>650</td>\n",
       "    </tr>\n",
       "    <tr>\n",
       "      <th>1</th>\n",
       "      <td>0ACDbR5M3ZhBJajygTuf</td>\n",
       "      <td>0</td>\n",
       "      <td>0</td>\n",
       "      <td>2</td>\n",
       "      <td>0</td>\n",
       "      <td>0</td>\n",
       "      <td>0</td>\n",
       "      <td>0</td>\n",
       "      <td>0</td>\n",
       "      <td>18</td>\n",
       "      <td>0</td>\n",
       "      <td>6</td>\n",
       "      <td>0</td>\n",
       "      <td>0</td>\n",
       "      <td>0</td>\n",
       "      <td>93</td>\n",
       "    </tr>\n",
       "  </tbody>\n",
       "</table>\n",
       "</div>"
      ],
      "text/plain": [
       "                     Id  misc_hkey_local_machine  misc_hkey_current_user  \\\n",
       "0  0A32eTdBKayjCWhZqDOQ                        0                       0   \n",
       "1  0ACDbR5M3ZhBJajygTuf                        0                       0   \n",
       "\n",
       "   misc_kernel32.dll  misc_user32.dll  misc_shell32.dll  misc_ntdll.dll  \\\n",
       "0                  1                3                 0               0   \n",
       "1                  2                0                 0               0   \n",
       "\n",
       "   misc_wsock32.dll  misc_advapi32.dll  misc_dll  misc_debug  \\\n",
       "0                 0                  2        14           3   \n",
       "1                 0                  0        18           0   \n",
       "\n",
       "   misc_virtualalloc  misc_loadlibrarya  misc_exitprocess  \\\n",
       "0                  8                  5                11   \n",
       "1                  6                  0                 0   \n",
       "\n",
       "   misc_createprocessa  misc_------------  \n",
       "0                    0                650  \n",
       "1                    0                 93  "
      ]
     },
     "execution_count": 4,
     "metadata": {},
     "output_type": "execute_result"
    }
   ],
   "source": [
    "df_misc = pd.DataFrame(misc_features, columns=[f'misc_{k}' for k in MISC_KEYWORDS])\n",
    "df_misc.insert(0, 'Id', file_ids)\n",
    "\n",
    "os.makedirs('features', exist_ok=True)\n",
    "df_misc.to_csv('features/misc_features.csv', index=False)\n",
    "\n",
    "# Preview\n",
    "df_misc.head()\n"
   ]
  }
 ],
 "metadata": {
  "kernelspec": {
   "display_name": "Python 3 (ipykernel)",
   "language": "python",
   "name": "python3"
  },
  "language_info": {
   "codemirror_mode": {
    "name": "ipython",
    "version": 3
   },
   "file_extension": ".py",
   "mimetype": "text/x-python",
   "name": "python",
   "nbconvert_exporter": "python",
   "pygments_lexer": "ipython3",
   "version": "3.13.1"
  }
 },
 "nbformat": 4,
 "nbformat_minor": 5
}
