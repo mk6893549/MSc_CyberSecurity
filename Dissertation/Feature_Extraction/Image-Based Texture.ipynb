{
 "cells": [
  {
   "cell_type": "code",
   "execution_count": 33,
   "id": "6d269677-014b-43e5-a823-9584d8dbb360",
   "metadata": {},
   "outputs": [],
   "source": [
    "import os\n",
    "import numpy as np\n",
    "import pandas as pd\n",
    "import cv2\n",
    "import mahotas\n",
    "from skimage.feature import local_binary_pattern\n",
    "from tqdm.notebook import tqdm\n"
   ]
  },
  {
   "cell_type": "code",
   "execution_count": 34,
   "id": "84e6767e-1700-4e1a-91a2-85fa896d4bae",
   "metadata": {},
   "outputs": [],
   "source": [
    "def bytes_to_image(file_path, width=256):\n",
    "    with open(file_path, 'r') as f:\n",
    "        byte_values = []\n",
    "        for line in f:\n",
    "            parts = line.strip().split()[1:]  # skip the address\n",
    "            for b in parts:\n",
    "                if b != '??':\n",
    "                    byte_values.append(int(b, 16))\n",
    "    # Pad to make array square-shaped\n",
    "    byte_array = np.array(byte_values, dtype=np.uint8)\n",
    "    height = int(np.ceil(len(byte_array) / width))\n",
    "    padded = np.pad(byte_array, (0, height * width - len(byte_array)), 'constant', constant_values=0)\n",
    "    img = padded.reshape((height, width))\n",
    "    return img\n"
   ]
  },
  {
   "cell_type": "code",
   "execution_count": 35,
   "id": "f5e314fd-9d7d-446c-a9af-f58bb01c55bb",
   "metadata": {},
   "outputs": [],
   "source": [
    "def extract_haralick_features(img):\n",
    "    # Convert to 8-bit grayscale\n",
    "    return mahotas.features.haralick(img).mean(axis=0)  # mean of all directions (13 features)\n"
   ]
  },
  {
   "cell_type": "code",
   "execution_count": 36,
   "id": "4ec06ee7-e530-4d50-9360-45695d101851",
   "metadata": {},
   "outputs": [],
   "source": [
    "def extract_lbp_features(img, P=8, R=1):\n",
    "    lbp = local_binary_pattern(img, P, R, method='uniform')\n",
    "    hist, _ = np.histogram(lbp.ravel(), bins=np.arange(0, P + 3), range=(0, P + 2))\n",
    "    hist = hist.astype(\"float\")\n",
    "    hist /= (hist.sum() + 1e-6)  # normalize\n",
    "    return hist  # shape: (10,) for uniform LBP\n"
   ]
  },
  {
   "cell_type": "code",
   "execution_count": 37,
   "id": "9e953c46-d8be-47a3-990f-f4ef1e5ce613",
   "metadata": {},
   "outputs": [
    {
     "data": {
      "application/vnd.jupyter.widget-view+json": {
       "model_id": "e7c03d0be00946389b70b525a5eb4cde",
       "version_major": 2,
       "version_minor": 0
      },
      "text/plain": [
       "  0%|          | 0/11 [00:00<?, ?it/s]"
      ]
     },
     "metadata": {},
     "output_type": "display_data"
    }
   ],
   "source": [
    "haralick_features = []\n",
    "lbp_features = []\n",
    "file_ids = []\n",
    "\n",
    "for filename in tqdm(os.listdir('.')):\n",
    "    if filename.endswith('.bytes'):\n",
    "        file_id = filename.replace('.bytes', '')\n",
    "        file_path = os.path.join('.', filename)\n",
    "        try:\n",
    "            img = bytes_to_image(file_path)\n",
    "            h_feat = extract_haralick_features(img)\n",
    "            l_feat = extract_lbp_features(img)\n",
    "        except Exception as e:\n",
    "            h_feat = np.zeros(13)\n",
    "            l_feat = np.zeros(10)\n",
    "        haralick_features.append(h_feat)\n",
    "        lbp_features.append(l_feat)\n",
    "        file_ids.append(file_id)\n"
   ]
  },
  {
   "cell_type": "code",
   "execution_count": 38,
   "id": "bfb4a17c-0c78-426b-9b76-c640c62200ad",
   "metadata": {},
   "outputs": [],
   "source": [
    "# Haralick (IMG1)\n",
    "df_img1 = pd.DataFrame(haralick_features, columns=[f'haralick_{i}' for i in range(13)])\n",
    "df_img1.insert(0, 'Id', file_ids)\n",
    "df_img1.to_csv('features/img1_haralick.csv', index=False)\n",
    "\n",
    "# LBP (IMG2)\n",
    "df_img2 = pd.DataFrame(lbp_features, columns=[f'lbp_{i}' for i in range(10)])\n",
    "df_img2.insert(0, 'Id', file_ids)\n",
    "df_img2.to_csv('features/img2_lbp.csv', index=False)\n"
   ]
  }
 ],
 "metadata": {
  "kernelspec": {
   "display_name": "Python 3 (ipykernel)",
   "language": "python",
   "name": "python3"
  },
  "language_info": {
   "codemirror_mode": {
    "name": "ipython",
    "version": 3
   },
   "file_extension": ".py",
   "mimetype": "text/x-python",
   "name": "python",
   "nbconvert_exporter": "python",
   "pygments_lexer": "ipython3",
   "version": "3.13.1"
  }
 },
 "nbformat": 4,
 "nbformat_minor": 5
}
