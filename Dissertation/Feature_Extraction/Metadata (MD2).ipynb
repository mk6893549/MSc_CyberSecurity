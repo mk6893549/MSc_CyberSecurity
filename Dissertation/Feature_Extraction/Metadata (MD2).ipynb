{
 "cells": [
  {
   "cell_type": "code",
   "execution_count": 1,
   "id": "545298fd-4b43-424d-b118-4d0eaee6e205",
   "metadata": {},
   "outputs": [],
   "source": [
    "import os\n",
    "import pandas as pd\n",
    "from tqdm.notebook import tqdm\n"
   ]
  },
  {
   "cell_type": "code",
   "execution_count": 2,
   "id": "7ae8eccc-8d0f-4766-b033-f1fb2ffce700",
   "metadata": {},
   "outputs": [],
   "source": [
    "def extract_metadata_asm(file_path):\n",
    "    try:\n",
    "        file_size = os.path.getsize(file_path)\n",
    "        with open(file_path, 'r', errors='ignore') as f:\n",
    "            line_count = sum(1 for _ in f)\n",
    "    except Exception as e:\n",
    "        print(f\"Error reading {file_path}: {e}\")\n",
    "        file_size = 0\n",
    "        line_count = 0\n",
    "    return file_size, line_count\n"
   ]
  },
  {
   "cell_type": "code",
   "execution_count": 3,
   "id": "9e559b25-d79c-4bcd-adf2-cf6a7bd04d37",
   "metadata": {},
   "outputs": [
    {
     "data": {
      "application/vnd.jupyter.widget-view+json": {
       "model_id": "62baae2535b9417a85c1e891a71870c7",
       "version_major": 2,
       "version_minor": 0
      },
      "text/plain": [
       "  0%|          | 0/18 [00:00<?, ?it/s]"
      ]
     },
     "metadata": {},
     "output_type": "display_data"
    }
   ],
   "source": [
    "metadata_features = []\n",
    "file_ids = []\n",
    "\n",
    "for filename in tqdm(os.listdir('.')):\n",
    "    if filename.endswith('.asm'):\n",
    "        file_id = filename.replace('.asm', '')\n",
    "        file_path = os.path.join('.', filename)\n",
    "        size, lines = extract_metadata_asm(file_path)\n",
    "        metadata_features.append([size, lines])\n",
    "        file_ids.append(file_id)\n"
   ]
  },
  {
   "cell_type": "code",
   "execution_count": 4,
   "id": "258a2d0d-dea2-494f-908e-38ba78691e52",
   "metadata": {},
   "outputs": [
    {
     "data": {
      "text/html": [
       "<div>\n",
       "<style scoped>\n",
       "    .dataframe tbody tr th:only-of-type {\n",
       "        vertical-align: middle;\n",
       "    }\n",
       "\n",
       "    .dataframe tbody tr th {\n",
       "        vertical-align: top;\n",
       "    }\n",
       "\n",
       "    .dataframe thead th {\n",
       "        text-align: right;\n",
       "    }\n",
       "</style>\n",
       "<table border=\"1\" class=\"dataframe\">\n",
       "  <thead>\n",
       "    <tr style=\"text-align: right;\">\n",
       "      <th></th>\n",
       "      <th>Id</th>\n",
       "      <th>asm_file_size</th>\n",
       "      <th>asm_line_count</th>\n",
       "    </tr>\n",
       "  </thead>\n",
       "  <tbody>\n",
       "    <tr>\n",
       "      <th>0</th>\n",
       "      <td>0A32eTdBKayjCWhZqDOQ</td>\n",
       "      <td>38495501</td>\n",
       "      <td>896510</td>\n",
       "    </tr>\n",
       "    <tr>\n",
       "      <th>1</th>\n",
       "      <td>0ACDbR5M3ZhBJajygTuf</td>\n",
       "      <td>12153703</td>\n",
       "      <td>274974</td>\n",
       "    </tr>\n",
       "  </tbody>\n",
       "</table>\n",
       "</div>"
      ],
      "text/plain": [
       "                     Id  asm_file_size  asm_line_count\n",
       "0  0A32eTdBKayjCWhZqDOQ       38495501          896510\n",
       "1  0ACDbR5M3ZhBJajygTuf       12153703          274974"
      ]
     },
     "execution_count": 4,
     "metadata": {},
     "output_type": "execute_result"
    }
   ],
   "source": [
    "df_md2 = pd.DataFrame(metadata_features, columns=['asm_file_size', 'asm_line_count'])\n",
    "df_md2.insert(0, 'Id', file_ids)\n",
    "\n",
    "os.makedirs('features', exist_ok=True)\n",
    "df_md2.to_csv('features/metadata_md2.csv', index=False)\n",
    "\n",
    "# Preview\n",
    "df_md2.head()\n"
   ]
  }
 ],
 "metadata": {
  "kernelspec": {
   "display_name": "Python 3 (ipykernel)",
   "language": "python",
   "name": "python3"
  },
  "language_info": {
   "codemirror_mode": {
    "name": "ipython",
    "version": 3
   },
   "file_extension": ".py",
   "mimetype": "text/x-python",
   "name": "python",
   "nbconvert_exporter": "python",
   "pygments_lexer": "ipython3",
   "version": "3.13.1"
  }
 },
 "nbformat": 4,
 "nbformat_minor": 5
}
