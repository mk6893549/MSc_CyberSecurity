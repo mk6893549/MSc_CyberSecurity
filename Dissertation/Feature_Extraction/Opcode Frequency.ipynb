{
 "cells": [
  {
   "cell_type": "code",
   "execution_count": 21,
   "id": "88c16f5c-df63-42d5-9307-44fd4a77b13a",
   "metadata": {},
   "outputs": [],
   "source": [
    "import os\n",
    "import re\n",
    "import pandas as pd\n",
    "from collections import Counter\n",
    "from tqdm.notebook import tqdm\n",
    "\n",
    "# Common x86 opcodes (expandable list)\n",
    "OPCODES = [\n",
    "    'mov', 'push', 'pop', 'call', 'jmp', 'lea', 'add', 'sub', 'mul', 'div',\n",
    "    'inc', 'dec', 'and', 'or', 'xor', 'nop', 'cmp', 'test', 'shl', 'shr',\n",
    "    'ret', 'jne', 'je', 'jz', 'jnz', 'loop', 'int', 'neg', 'not', 'sar',\n",
    "    'sal', 'xchg', 'stos', 'lods', 'scas', 'in', 'out', 'bsf', 'bt', 'cli',\n",
    "    'sti', 'cbw', 'cwd', 'cdq', 'cmpsb', 'cmpsw', 'cmpsd', 'insb', 'outsb',\n",
    "    'imul', 'idiv', 'setne', 'sete', 'setnz', 'movzx', 'movsx', 'fadd',\n",
    "    'fsub', 'fst', 'fld', 'fdiv', 'fsin', 'fcos', 'fabs', 'fchs'\n",
    "]\n"
   ]
  },
  {
   "cell_type": "code",
   "execution_count": 22,
   "id": "c4ac3fef-b0d4-43a1-bc7d-b807eabecb16",
   "metadata": {},
   "outputs": [],
   "source": [
    "def extract_opcodes(file_path, opcode_list):\n",
    "    op_counter = Counter()\n",
    "    opcode_set = set(opcode_list)\n",
    "\n",
    "    with open(file_path, 'r', errors='ignore') as f:\n",
    "        for line in f:\n",
    "            # Extract all word tokens from line (assembly + comments)\n",
    "            tokens = re.findall(r'\\b[a-zA-Z]+\\b', line)\n",
    "            for token in tokens:\n",
    "                token = token.lower()\n",
    "                if token in opcode_set:\n",
    "                    op_counter[token] += 1\n",
    "                    break  # count only the first opcode per line\n",
    "    return [op_counter.get(op, 0) for op in opcode_list]\n"
   ]
  },
  {
   "cell_type": "code",
   "execution_count": 23,
   "id": "4ede3625-9694-4669-9d19-f829f8869632",
   "metadata": {},
   "outputs": [
    {
     "data": {
      "application/vnd.jupyter.widget-view+json": {
       "model_id": "9fcac1fd7b6f46e18ba52647bb106ed2",
       "version_major": 2,
       "version_minor": 0
      },
      "text/plain": [
       "  0%|          | 0/13 [00:00<?, ?it/s]"
      ]
     },
     "metadata": {},
     "output_type": "display_data"
    }
   ],
   "source": [
    "opcode_features = []\n",
    "file_ids = []\n",
    "\n",
    "for filename in tqdm(os.listdir('.')):\n",
    "    if filename.endswith('.asm'):\n",
    "        file_id = filename.replace('.asm', '')\n",
    "        file_path = os.path.join('.', filename)\n",
    "        try:\n",
    "            features = extract_opcodes(file_path, OPCODES)\n",
    "        except Exception as e:\n",
    "            print(f\"Error processing {file_path}: {e}\")\n",
    "            features = [0] * len(OPCODES)\n",
    "        opcode_features.append(features)\n",
    "        file_ids.append(file_id)\n"
   ]
  },
  {
   "cell_type": "code",
   "execution_count": 24,
   "id": "394761cf-e1d2-472b-840d-e3f81ed9f50f",
   "metadata": {},
   "outputs": [
    {
     "data": {
      "text/html": [
       "<div>\n",
       "<style scoped>\n",
       "    .dataframe tbody tr th:only-of-type {\n",
       "        vertical-align: middle;\n",
       "    }\n",
       "\n",
       "    .dataframe tbody tr th {\n",
       "        vertical-align: top;\n",
       "    }\n",
       "\n",
       "    .dataframe thead th {\n",
       "        text-align: right;\n",
       "    }\n",
       "</style>\n",
       "<table border=\"1\" class=\"dataframe\">\n",
       "  <thead>\n",
       "    <tr style=\"text-align: right;\">\n",
       "      <th></th>\n",
       "      <th>Id</th>\n",
       "      <th>op_mov</th>\n",
       "      <th>op_push</th>\n",
       "      <th>op_pop</th>\n",
       "      <th>op_call</th>\n",
       "      <th>op_jmp</th>\n",
       "      <th>op_lea</th>\n",
       "      <th>op_add</th>\n",
       "      <th>op_sub</th>\n",
       "      <th>op_mul</th>\n",
       "      <th>...</th>\n",
       "      <th>op_movsx</th>\n",
       "      <th>op_fadd</th>\n",
       "      <th>op_fsub</th>\n",
       "      <th>op_fst</th>\n",
       "      <th>op_fld</th>\n",
       "      <th>op_fdiv</th>\n",
       "      <th>op_fsin</th>\n",
       "      <th>op_fcos</th>\n",
       "      <th>op_fabs</th>\n",
       "      <th>op_fchs</th>\n",
       "    </tr>\n",
       "  </thead>\n",
       "  <tbody>\n",
       "    <tr>\n",
       "      <th>0</th>\n",
       "      <td>0A32eTdBKayjCWhZqDOQ</td>\n",
       "      <td>1923</td>\n",
       "      <td>971</td>\n",
       "      <td>471</td>\n",
       "      <td>412</td>\n",
       "      <td>361</td>\n",
       "      <td>367</td>\n",
       "      <td>195</td>\n",
       "      <td>283</td>\n",
       "      <td>5</td>\n",
       "      <td>...</td>\n",
       "      <td>3</td>\n",
       "      <td>0</td>\n",
       "      <td>0</td>\n",
       "      <td>0</td>\n",
       "      <td>3</td>\n",
       "      <td>0</td>\n",
       "      <td>0</td>\n",
       "      <td>0</td>\n",
       "      <td>0</td>\n",
       "      <td>0</td>\n",
       "    </tr>\n",
       "    <tr>\n",
       "      <th>1</th>\n",
       "      <td>0ACDbR5M3ZhBJajygTuf</td>\n",
       "      <td>818</td>\n",
       "      <td>25</td>\n",
       "      <td>14</td>\n",
       "      <td>9</td>\n",
       "      <td>85</td>\n",
       "      <td>70</td>\n",
       "      <td>9</td>\n",
       "      <td>1</td>\n",
       "      <td>0</td>\n",
       "      <td>...</td>\n",
       "      <td>0</td>\n",
       "      <td>0</td>\n",
       "      <td>0</td>\n",
       "      <td>0</td>\n",
       "      <td>0</td>\n",
       "      <td>0</td>\n",
       "      <td>0</td>\n",
       "      <td>0</td>\n",
       "      <td>0</td>\n",
       "      <td>0</td>\n",
       "    </tr>\n",
       "  </tbody>\n",
       "</table>\n",
       "<p>2 rows × 66 columns</p>\n",
       "</div>"
      ],
      "text/plain": [
       "                     Id  op_mov  op_push  op_pop  op_call  op_jmp  op_lea  \\\n",
       "0  0A32eTdBKayjCWhZqDOQ    1923      971     471      412     361     367   \n",
       "1  0ACDbR5M3ZhBJajygTuf     818       25      14        9      85      70   \n",
       "\n",
       "   op_add  op_sub  op_mul  ...  op_movsx  op_fadd  op_fsub  op_fst  op_fld  \\\n",
       "0     195     283       5  ...         3        0        0       0       3   \n",
       "1       9       1       0  ...         0        0        0       0       0   \n",
       "\n",
       "   op_fdiv  op_fsin  op_fcos  op_fabs  op_fchs  \n",
       "0        0        0        0        0        0  \n",
       "1        0        0        0        0        0  \n",
       "\n",
       "[2 rows x 66 columns]"
      ]
     },
     "execution_count": 24,
     "metadata": {},
     "output_type": "execute_result"
    }
   ],
   "source": [
    "# Create DataFrame\n",
    "df_opcodes = pd.DataFrame(opcode_features, columns=[f'op_{op}' for op in OPCODES])\n",
    "df_opcodes.insert(0, 'Id', file_ids)\n",
    "\n",
    "# Save\n",
    "os.makedirs('features', exist_ok=True)\n",
    "df_opcodes.to_csv('features/opcode_frequency.csv', index=False)\n",
    "\n",
    "# Preview\n",
    "df_opcodes.head()\n"
   ]
  },
  {
   "cell_type": "code",
   "execution_count": null,
   "id": "89213017-f00c-4066-97be-d287ae50e688",
   "metadata": {},
   "outputs": [],
   "source": []
  }
 ],
 "metadata": {
  "kernelspec": {
   "display_name": "Python 3 (ipykernel)",
   "language": "python",
   "name": "python3"
  },
  "language_info": {
   "codemirror_mode": {
    "name": "ipython",
    "version": 3
   },
   "file_extension": ".py",
   "mimetype": "text/x-python",
   "name": "python",
   "nbconvert_exporter": "python",
   "pygments_lexer": "ipython3",
   "version": "3.13.1"
  }
 },
 "nbformat": 4,
 "nbformat_minor": 5
}
